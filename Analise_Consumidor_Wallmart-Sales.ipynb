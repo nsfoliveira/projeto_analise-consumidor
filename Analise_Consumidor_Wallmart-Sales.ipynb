{
 "cells": [
  {
   "cell_type": "markdown",
   "id": "efdffd88-21aa-4404-baf2-950fcaa5c138",
   "metadata": {},
   "source": [
    "# **Projeto de Análise de dados de vendas do Wallmart**  \n",
    "Análise desenvolvida por: **Natália Oliveira**\n",
    "\n",
    "---"
   ]
  },
  {
   "cell_type": "markdown",
   "id": "a39b79b7-3c60-4640-875e-8e1ecc51ad42",
   "metadata": {},
   "source": [
    "### Questões que o projeto se propóe a responder"
   ]
  },
  {
   "cell_type": "markdown",
   "id": "5b97dafa-6dbf-4549-89b2-a55a0f37db72",
   "metadata": {},
   "source": [
    "### Metodologia"
   ]
  },
  {
   "cell_type": "markdown",
   "id": "35c9cca7-5803-4418-acbd-cab6fd21a7a3",
   "metadata": {},
   "source": [
    "## **Etapas da Análise**"
   ]
  },
  {
   "cell_type": "markdown",
   "id": "9ac3991b-951e-4a53-8156-cf63d24fa4c4",
   "metadata": {},
   "source": [
    "## **Respostas Questionamentos**"
   ]
  },
  {
   "cell_type": "markdown",
   "id": "0f1129c1-5bea-49fb-a921-0ff71e94f703",
   "metadata": {},
   "source": [
    "## **Conclusão**"
   ]
  },
  {
   "cell_type": "markdown",
   "id": "af830979-31e2-4ff8-92b5-c97915baaf96",
   "metadata": {},
   "source": [
    "## **Referências**"
   ]
  }
 ],
 "metadata": {
  "kernelspec": {
   "display_name": "Python 3 (ipykernel)",
   "language": "python",
   "name": "python3"
  },
  "language_info": {
   "codemirror_mode": {
    "name": "ipython",
    "version": 3
   },
   "file_extension": ".py",
   "mimetype": "text/x-python",
   "name": "python",
   "nbconvert_exporter": "python",
   "pygments_lexer": "ipython3",
   "version": "3.8.13"
  }
 },
 "nbformat": 4,
 "nbformat_minor": 5
}
