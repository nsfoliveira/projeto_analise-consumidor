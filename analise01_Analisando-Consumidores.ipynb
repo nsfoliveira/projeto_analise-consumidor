{
 "cells": [
  {
   "cell_type": "markdown",
   "id": "efdffd88-21aa-4404-baf2-950fcaa5c138",
   "metadata": {},
   "source": [
    "# **Análise 01: Analisando os Consumidores**\n",
    "----"
   ]
  },
  {
   "cell_type": "markdown",
   "id": "b1135e39-ce4d-4b5f-9a6b-25cf34b99b7f",
   "metadata": {},
   "source": [
    "## **Introdução**"
   ]
  },
  {
   "cell_type": "markdown",
   "id": "4cfeaee3-32d5-4c77-9ab9-5cfdbc2b5c7a",
   "metadata": {},
   "source": [
    "### Objetivo\n",
    "A finalidade desta análise é examinar os dados dos consumidores do E-commerce brasileiro Olist, com o intuito de identificar os padrões de comportamento de compra e responder a diversas questões relacionadas ao negócio. Para alcançar esse objetivo, serão utilizadas diversas técnicas de análise de dados, incluindo a segmentação de clientes e análise de associação.\n"
   ]
  },
  {
   "cell_type": "markdown",
   "id": "a39b79b7-3c60-4640-875e-8e1ecc51ad42",
   "metadata": {},
   "source": [
    "### Perguntas de Negócio\n",
    "Está análise se propõe a responder as seguintes demandas:\n",
    "* Quais são os produtos mais vendidos?\n",
    "* Quais são os produtos que são geralmente comprados juntos?\n",
    "* Qual é o valor médio de cada compra?\n",
    "* Quais são os clientes mais valiosos em termos de valor de vida útil (LTV) e padrões de compra?\n",
    "* Qual é a taxa de recompra dos clientes?\n",
    "* Quais são as preferências de compra dos clientes?\n",
    "* Como as vendas variam ao longo do tempo?\n",
    "* Como as vendas variam de acordo com a localização geográfica?\n",
    "* Como o preço afeta o comportamento de compra dos clientes?\n",
    "* Quais são as tendências de compra ao longo do tempo?"
   ]
  },
  {
   "cell_type": "markdown",
   "id": "fc940b6e-d9cb-47c4-ba26-9428bca5478c",
   "metadata": {},
   "source": [
    "### Sobre os Dados utilizados nesta análise\n",
    "\n",
    "Para está análise os seguintes dataset e seus respectivos metadados foram utilizados:<br>\n",
    "<sub> Para informações de metadados consultar o README deste projeto</br>\n",
    "* **olist_customers_dataset.csv**<br>\n",
    "* **olist_geolocation_dataset.csv**<br>\n",
    "* **olist_order_items_dataset.csv**<br>\n",
    "* **olist_order_payments_dataset.csv**<br>\n",
    "* **olist_order_reviews_dataset.csv**<br>\n",
    "* **olist_orders_dataset.csv**<br>\n",
    "* **olist_products_dataset.csv**<br>\n",
    "* **olist_sellers_dataset.csv**<br>\n",
    "* **product_category_name_translation.csv**<br>\n"
   ]
  },
  {
   "cell_type": "markdown",
   "id": "5b97dafa-6dbf-4549-89b2-a55a0f37db72",
   "metadata": {},
   "source": [
    "### Metodologia"
   ]
  },
  {
   "cell_type": "markdown",
   "id": "35c9cca7-5803-4418-acbd-cab6fd21a7a3",
   "metadata": {},
   "source": [
    "## **Etapas da Análise**"
   ]
  },
  {
   "cell_type": "markdown",
   "id": "9ac3991b-951e-4a53-8156-cf63d24fa4c4",
   "metadata": {},
   "source": [
    "## **Respostas Questionamentos**"
   ]
  },
  {
   "cell_type": "markdown",
   "id": "0f1129c1-5bea-49fb-a921-0ff71e94f703",
   "metadata": {},
   "source": [
    "## **Conclusão**"
   ]
  },
  {
   "cell_type": "markdown",
   "id": "af830979-31e2-4ff8-92b5-c97915baaf96",
   "metadata": {},
   "source": [
    "## **Referências**"
   ]
  }
 ],
 "metadata": {
  "kernelspec": {
   "display_name": "Python 3 (ipykernel)",
   "language": "python",
   "name": "python3"
  },
  "language_info": {
   "codemirror_mode": {
    "name": "ipython",
    "version": 3
   },
   "file_extension": ".py",
   "mimetype": "text/x-python",
   "name": "python",
   "nbconvert_exporter": "python",
   "pygments_lexer": "ipython3",
   "version": "3.8.13"
  }
 },
 "nbformat": 4,
 "nbformat_minor": 5
}
